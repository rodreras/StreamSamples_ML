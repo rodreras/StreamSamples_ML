{
 "cells": [
  {
   "cell_type": "markdown",
   "metadata": {},
   "source": [
    "# Milestone 1: Exploratory Data Analysis\n",
    "\n",
    "**Authors**: __Khizer Zakir & Rodrigo Brust Santos__\n",
    "\n",
    "__October 2023__"
   ]
  },
  {
   "cell_type": "markdown",
   "metadata": {},
   "source": [
    "\n",
    "<a name=\"dataset-description\" ></a>\n",
    "## 1. Dataset Description \n",
    "\n",
    "**Objective** : Prediction/Interpolation of elemental concentrations\n",
    "\n",
    "### 1.1 How the Dataset has been Collected?\n",
    "\n",
    "The data was collected from the Brazilian Geological Survey (CPRM) in the folder of the [Destrito Zincífero de Vazante, Minas Gerais (MG), Brasil](https://rigeo.cprm.gov.br/handle/doc/19397) (_Zinc-enriched District of Vazante, Minas Gerais State, Brazil_), accronym `DZV`. The stream sediments dataset was requested by e-mail to CRPM and promptly disponibilized.\n",
    "\n",
    "The dataset that will be explored is the Stream Sediments Geochemical Samples from DZV, which is a program that has been conducted in the northwest region of Minas Gerais State, Brazil, published in 2017 to aid exploration and development of mineral industry focused on **Zinc ore**. \n",
    "\n",
    "This dataset consists of `stream sediments`, which are sediment samples that are collected from a stream or body of water for geochemical analysis. Stream sediment sampling is considered a good first order approximation for mineral exploration, as catchment lithology (or, in layman's terms, the type of rock in the drainage area) is considered to be the main control on stream sediment geochemistry and therefore can indicate a mineral deposit upstream of the sample location. \n",
    "\n",
    "### 1.2 Meaning of the Dataset\n",
    "\n",
    "#### Context\n",
    "\n",
    "The `DZV` lies within the Brasília Belt, more especifically in the center-south part (Almeida, 1967 & 1968).  This geological terrain was formed in the Brasiliano Cycle, during the Neoproterozoic period (1Ga to 500Ma), when the cratons of São Francisco, Amazonas and Paranapanema collided. This colision was on of many that created the big southern paleocontinent Gondwana. (Valeriano et al., 2004; Pimentel et al., 2011).\n",
    "\n",
    "Cratons are caractherized as a solid and stable part of the continental lithosphere. Due to its light density when compared to the ocean crust, the cratons can resist to the movements of the tectonic plates, such as rifts and subductions. As consequences, these resistent pieces of rocks are commonly found in the middle of tectonic plates and continents (Petit,2010). Figure 1 shows the main cratons of South America and Africa, when these continents were joined in the super paleocontinent Pangea.\n",
    "\n",
    "|![cratons-1.svg](./images/Cratons_West_Gondwana.svg)|\n",
    "|:--:|\n",
    "|*Figure 1: South America's and Africa's cratons represented by dark brown. Source: [Woudloper, 2010](https://en.wikipedia.org/wiki/Craton#/media/File:Cratons_West_Gondwana.svg)*|\n",
    "\n",
    "The shock of these brazilian cratons led to the Brasilia Belt (Figure 2) as stated above. This collision generated 3 geological compartiments of the folding belt: the Inner Zone, the External Zone and the Cratonic Domain. Since the area of interest (AOI) is located in the External Zone, that is where we are focusing - highlighted by the purple box in Figure 2. \n",
    "\n",
    "|![brasilia-belt.png](./images/brasilia_belt_draw.png)|\n",
    "| :--: |\n",
    "|*Figure 2: Brasília Belt geological setting and position. It is a strip that connects both São Francisco Craton and Paranapanema Craton, that nowadays is under the Paraná Basin. The stream sediments are located in the region of the purple draw square, in the cities of Paracatu, Vazante and Coromandel. Source: Valeriano, 2016.*|\n",
    "\n",
    "The `DZV` is located in the External Zone of Brasília Belt. The main mineralizations of Zn are within the Vazante Group (Dias et al., 2015). In Geology, group is a grouping of geologic formations. Each formation is caractherized by a couple of lithologies. Within Vazante Group, there are in total 3 Formations: Lapa Fm, Serra do Poço and Morro do Calcário Fm, Serra do Garrote Fm. They are always displayed from the youngest to the oldest, as shown in Figure 3. Groups and formations are classified according to the similarities between the lithologies, being different from rock bodies in the suroudings, and that also ocuppies  particular position in the layers of rock exposed in a geographical region (Boggs, 1987).\n",
    "\n",
    "| Figure 3 |\n",
    "|:--:|\n",
    "|__Figure 3: Vazante Group__|\n",
    "\n",
    "\n",
    "In total, in the `DZV` there are 6 mines extracting Zn-ore, mainly by the mineral willemite (Zn2SiO4 - Zinc Silicate). In some areas, the concentration of Zn can reach 8000 ppm.  \n",
    "\n",
    "#### Objectives\n",
    "\n",
    "Having the whole background in mind, the objective of this project is to find, with the aid of Machine Learning regression algorithms, prospectable areas rich in Zn. "
   ]
  },
  {
   "cell_type": "markdown",
   "metadata": {},
   "source": [
    "\n",
    "### 1.3 Explanatory Variables\n",
    "List and describe the types and numbers of explanatory variables.\n"
   ]
  },
  {
   "cell_type": "code",
   "execution_count": null,
   "metadata": {},
   "outputs": [],
   "source": [
    "# Import necessary libraries\n",
    "import pandas as pd\n",
    "import matplotlib.pyplot as plt\n",
    "import seaborn as sns\n",
    "import time"
   ]
  },
  {
   "cell_type": "code",
   "execution_count": null,
   "metadata": {},
   "outputs": [],
   "source": [
    "# Load the dataset\n",
    "file_path = 'pontos_limpo.csv'\n",
    "df = pd.read_csv(file_path)\n",
    "\n",
    "# Display the first few rows of the dataset\n",
    "df.head()\n"
   ]
  },
  {
   "cell_type": "code",
   "execution_count": null,
   "metadata": {},
   "outputs": [],
   "source": [
    "# Filter numeric columns\n",
    "numeric_columns = df.iloc[:, 4:].select_dtypes(include='number')\n",
    "numeric_columns.head()"
   ]
  },
  {
   "cell_type": "code",
   "execution_count": null,
   "metadata": {},
   "outputs": [],
   "source": [
    "# Print feature names of X\n",
    "print(\"Feature Names of X:\", feature_names)\n",
    "\n",
    "# Print type of the X values\n",
    "print(\"\\nType of X Values:\")\n",
    "print(X.dtypes)\n",
    "print(\"\\nTotal number of explanatory variables:\")\n",
    "print(len(feature_names))"
   ]
  },
  {
   "cell_type": "markdown",
   "metadata": {},
   "source": [
    "\n",
    "### 1.4 Response Variable\n",
    "Describe the response variable and its type.\n"
   ]
  },
  {
   "cell_type": "code",
   "execution_count": null,
   "metadata": {},
   "outputs": [],
   "source": [
    "\n",
    "# index by name\n",
    "\n",
    "print(\"Feature Name:\", targer_name)\n",
    "# Print type of the Y values\n",
    "print(\"\\nType of y Values:\")\n",
    "print(y.dtypes)\n",
    "print(\"\\nshape of Y:\")\n",
    "print(y.shape)"
   ]
  },
  {
   "cell_type": "code",
   "execution_count": null,
   "metadata": {},
   "outputs": [],
   "source": []
  }
 ],
 "metadata": {
  "language_info": {
   "name": "python"
  },
  "orig_nbformat": 4
 },
 "nbformat": 4,
 "nbformat_minor": 2
}
