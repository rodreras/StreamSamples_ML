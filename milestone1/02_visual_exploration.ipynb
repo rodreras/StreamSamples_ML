{
 "cells": [
  {
   "cell_type": "markdown",
   "metadata": {},
   "source": [
    "# Milestone 1: Exploratory Data Analysis\n",
    "\n",
    "**Authors**: __Khizer Zakir & Rodrigo Brust Santos__\n",
    "\n",
    "__October 2023__\n",
    "\n",
    "## 2. Visual Exploration\n"
   ]
  },
  {
   "cell_type": "code",
   "execution_count": null,
   "metadata": {},
   "outputs": [],
   "source": [
    "# Import necessary libraries\n",
    "import pandas as pd\n",
    "import matplotlib.pyplot as plt\n",
    "import seaborn as sns\n",
    "import time "
   ]
  },
  {
   "cell_type": "code",
   "execution_count": null,
   "metadata": {},
   "outputs": [],
   "source": [
    "# Load the dataset\n",
    "file_path = 'pontos_limpo.csv'\n",
    "df = pd.read_csv(file_path)\n",
    "\n",
    "# Display the first few rows of the dataset\n",
    "df.head()\n"
   ]
  },
  {
   "cell_type": "markdown",
   "metadata": {},
   "source": [
    "\n",
    "### 2.1 Visualizing the Dataset\n",
    "Provide a few figures to help understand the dataset.\n"
   ]
  },
  {
   "cell_type": "code",
   "execution_count": null,
   "metadata": {},
   "outputs": [],
   "source": [
    "start_time = time.time()\n",
    "fig, axs = plt.subplots(17, 3, figsize=(15, 5 *13))\n",
    "\n",
    "# Flatten the axs array for easy indexing\n",
    "axs = axs.flatten()\n",
    "\n",
    "# Loop through feature names\n",
    "for i in range(len(feature_names)):\n",
    "    axs[i].scatter(X[feature_names[i]], y, s = 10, color = 'orange')\n",
    "    axs[i].set_title(f'Scatterplot for {feature_names[i]} and Zn (ppm)')\n",
    "    axs[i].set_xlabel(feature_names[i])\n",
    "    axs[i].set_ylabel('Zn (ppm)')\n",
    "\n",
    "end_time = time.time()\n",
    "print(\"Time taken to plot:\", end_time - start_time)\n",
    "# Adjust layout for better spacing\n",
    "plt.tight_layout()\n",
    "\n",
    "# Show the plots\n",
    "plt.show()\n"
   ]
  },
  {
   "cell_type": "code",
   "execution_count": null,
   "metadata": {},
   "outputs": [],
   "source": [
    "\n",
    "# Plot histograms for numeric columns\n",
    "for column in numeric_columns.columns:\n",
    "    plt.figure(figsize=(8, 6))\n",
    "    sns.histplot(df[column], bins=20, kde=True)\n",
    "    plt.title(f'Histogram of {column}')\n",
    "    plt.xlabel(column)\n",
    "    plt.ylabel('Frequency')\n",
    "    plt.show()\n"
   ]
  },
  {
   "cell_type": "code",
   "execution_count": null,
   "metadata": {},
   "outputs": [],
   "source": [
    "numeric_columns.describe()"
   ]
  },
  {
   "cell_type": "code",
   "execution_count": null,
   "metadata": {},
   "outputs": [],
   "source": [
    "all_column_names = numeric_columns.columns.tolist()\n",
    "len(all_column_names)\n"
   ]
  },
  {
   "cell_type": "code",
   "execution_count": null,
   "metadata": {},
   "outputs": [],
   "source": [
    "feature_names = [col for col in all_column_names if col != \"Zn (ppm)\"]\n",
    "targer_name = \"Zn (ppm)\"\n",
    "# Set X and y variables\n",
    "X = numeric_columns[feature_names]\n",
    "y = numeric_columns[\"Zn (ppm)\"]\n",
    "\n",
    "# Print feature names, X, and y\n",
    "print(\"Feature Names:\", feature_names)\n",
    "print(\"\\nX Variable (Features):\")\n",
    "print(X.head())\n",
    "print(\"\\ny Variable (Target):\", targer_name)\n",
    "print(y.head())"
   ]
  }
 ],
 "metadata": {
  "language_info": {
   "name": "python"
  },
  "orig_nbformat": 4
 },
 "nbformat": 4,
 "nbformat_minor": 2
}
