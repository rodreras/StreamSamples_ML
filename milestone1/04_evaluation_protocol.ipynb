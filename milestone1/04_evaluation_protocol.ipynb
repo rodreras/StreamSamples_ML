{
 "cells": [
  {
   "cell_type": "markdown",
   "metadata": {},
   "source": [
    "# Milestone 1: Exploratory Data Analysis\n",
    "\n",
    "**Authors**: __Khizer Zakir & Rodrigo Brust Santos__\n",
    "\n",
    "__October 2023__\n",
    "\n",
    "## 4. Evaluation Protocol\n",
    "\n"
   ]
  },
  {
   "cell_type": "markdown",
   "metadata": {},
   "source": [
    "### 4.1 Dataset Splitting\n",
    "Explain how you will split the dataset into training and testing data to avoid data leakage."
   ]
  },
  {
   "cell_type": "code",
   "execution_count": null,
   "metadata": {},
   "outputs": [],
   "source": [
    "#--code"
   ]
  },
  {
   "cell_type": "markdown",
   "metadata": {},
   "source": [
    "### 4.2 Evaluation Metrics\n",
    "Present the main evaluation metric and any additional metrics for model comparison.\n",
    "The idea here is that the model has never seen the test data before, so it’s considered an accurate metric of how your model would perform on new data\n",
    "\n",
    "In geochemistry analysis, one of the main components of general error in exploration operations is laboratory error, and obtaining this error is important to know the precision of the analysis. Since, in regional-scale geochemical projects, the goal is to measure the relative values of each element corresponding to each other for finding promising areas, hence the precision of measurements is more important than their accuracy."
   ]
  },
  {
   "cell_type": "code",
   "execution_count": null,
   "metadata": {},
   "outputs": [],
   "source": [
    "#--code"
   ]
  },
  {
   "cell_type": "markdown",
   "metadata": {},
   "source": [
    "## 5. References\n",
    "\n",
    "[Petit 2010](https://onlinelibrary.wiley.com/doi/10.1002/scin.5591781325)\n",
    "\n",
    "[Valeriano 2016](https://link.springer.com/chapter/10.1007/978-3-319-01715-0_10)\n",
    "\n",
    "[Boggs 1987](Boggs, Sam Jr. (1987). Principles of sedimentology and stratigraphy (1st ed.). Merrill Pub. Co. ISBN 0675204879.)"
   ]
  }
 ],
 "metadata": {
  "language_info": {
   "name": "python"
  },
  "orig_nbformat": 4
 },
 "nbformat": 4,
 "nbformat_minor": 2
}
